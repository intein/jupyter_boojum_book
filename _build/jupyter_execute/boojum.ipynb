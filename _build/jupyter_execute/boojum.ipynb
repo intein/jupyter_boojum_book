{
 "cells": [
  {
   "cell_type": "markdown",
   "metadata": {},
   "source": [
    "# Привет!"
   ]
  },
  {
   "cell_type": "markdown",
   "metadata": {},
   "source": [
    "Меня зовут Миша Берегов. Я занимаюсь лучевой диагностикой. <br> \n",
    "Работаю в двух местах. <br>\n",
    "* В Центре мозга и нейротехнологий мы занимаемся в основном МРТ и КТ головного мозга, включая разные их вариации, в том числе трактографию, перфузионные исследования, фМРТ. <br>\n",
    "* В ЦКБ РАН в отделении радионуклидных методов диагностики мы делаем ПЭТ/КТ и сцинтиграфию (у меня два сертификата  &mdash; один по рентгенологии, другой по радиологии). "
   ]
  },
  {
   "cell_type": "markdown",
   "metadata": {},
   "source": [
    "В свободное время я программирую на Питоне, занимаюсь статистикой и машинным обучением. "
   ]
  },
  {
   "cell_type": "markdown",
   "metadata": {},
   "source": [
    "Последний скрипт, который я сюда загрузил &mdash; <a href=\"./resting_state.html\">фМРТ покоя</a>"
   ]
  },
  {
   "cell_type": "code",
   "execution_count": null,
   "metadata": {},
   "outputs": [],
   "source": []
  },
  {
   "cell_type": "markdown",
   "metadata": {},
   "source": [
    "\n",
    "```{toctree}\n",
    ":hidden:\n",
    ":titlesonly:\n",
    "\n",
    "\n",
    "connect\n",
    "```\n"
   ]
  }
 ],
 "metadata": {
  "kernelspec": {
   "display_name": "Python 3",
   "language": "python",
   "name": "python3"
  },
  "language_info": {
   "codemirror_mode": {
    "name": "ipython",
    "version": 3
   },
   "file_extension": ".py",
   "mimetype": "text/x-python",
   "name": "python",
   "nbconvert_exporter": "python",
   "pygments_lexer": "ipython3",
   "version": "3.7.6"
  }
 },
 "nbformat": 4,
 "nbformat_minor": 4
}